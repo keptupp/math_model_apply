{
 "cells": [
  {
   "cell_type": "markdown",
   "metadata": {},
   "source": [
    "## 线性规划"
   ]
  },
  {
   "cell_type": "code",
   "execution_count": 1,
   "metadata": {},
   "outputs": [],
   "source": [
    "\n",
    "from scipy.optimize import linprog\n",
    "import numpy as np"
   ]
  },
  {
   "cell_type": "code",
   "execution_count": 2,
   "metadata": {},
   "outputs": [
    {
     "name": "stdout",
     "output_type": "stream",
     "text": [
      "     con: array([], dtype=float64)\n",
      "     fun: -25.9999999995978\n",
      " message: 'Optimization terminated successfully.'\n",
      "     nit: 5\n",
      "   slack: array([1.81024973e-10, 1.10586207e-10, 1.00000000e+00, 8.00000000e+00])\n",
      "  status: 0\n",
      " success: True\n",
      "       x: array([2., 6.])\n"
     ]
    }
   ],
   "source": [
    "f=np.array([-4,-3])\n",
    "A=np.array([[2,1],[1,1],[0,1],[-1,-1]])\n",
    "b=np.array([10,8,7,0])\n",
    "x=linprog(f,A,b)#matlab中的相等的约束也需要一个空矩阵填进去\n",
    "print(x)"
   ]
  },
  {
   "attachments": {},
   "cell_type": "markdown",
   "metadata": {},
   "source": [
    "## 飞机货物载重"
   ]
  },
  {
   "cell_type": "code",
   "execution_count": 14,
   "metadata": {},
   "outputs": [
    {
     "name": "stdout",
     "output_type": "stream",
     "text": [
      "     con: array([-2.83520767e-05,  2.23650197e-05])\n",
      "     fun: -111558.82329783046\n",
      " message: 'Optimization terminated successfully.'\n",
      "     nit: 8\n",
      "   slack: array([1.80000000e+01, 4.58701930e-08, 7.41176475e+00, 1.20000000e+01,\n",
      "       1.86641174e-08, 3.20588238e+00, 2.05882364e-01, 6.65254850e+02,\n",
      "       8.07904524e+02, 5.35664196e+02])\n",
      "  status: 0\n",
      " success: True\n",
      "       x: array([9.55803467e-09, 4.78207376e+00, 5.21792621e+00, 4.76926251e-09,\n",
      "       3.40789670e-09, 6.73581796e+00, 6.05829965e+00, 2.32261547e-09,\n",
      "       6.37234498e-09, 3.48210823e+00, 4.31200939e+00, 3.96583281e-09])\n"
     ]
    }
   ],
   "source": [
    "f=np.array([-3100,-3800,-3500,-2850,-3100,-3800,-3500,-2850,-3100,-3800,-3500,-2850],dtype=np.float64)\n",
    "A=np.array([\n",
    "    [1,0,0,0,1,0,0,0,1,0,0,0],\n",
    "    [0,1,0,0,0,1,0,0,0,1,0,0],\n",
    "    [0,0,1,0,0,0,1,0,0,0,1,0],\n",
    "    [0,0,0,1,0,0,0,1,0,0,0,1],\n",
    "    [1,1,1,1,0,0,0,0,0,0,0,0],\n",
    "    [0,0,0,0,1,1,1,1,0,0,0,0],\n",
    "    [0,0,0,0,0,0,0,0,1,1,1,1],\n",
    "    [480,650,580,390,0,0,0,0,0,0,0,0],\n",
    "    [0,0,0,0,480,650,580,390,0,0,0,0],\n",
    "    [0,0,0,0,0,0,0,0,480,650,580,390],\n",
    "\n",
    "],dtype=np.float64)\n",
    "b=np.array([18,15,23,12,10,16,8,6800,8700,5300,],dtype=np.float64)\n",
    "Aeq=np.array([\n",
    "    [8700,8700,8700,8700,-6800,-6800,-6800,-6800,0,0,0,0],\n",
    "    [5300,5300,5300,5300,0,0,0,0,-6800,-6800,-6800,-6800]\n",
    "],dtype=np.float64)\n",
    "beq=np.array([0,0],dtype=np.float64)\n",
    "x=linprog(f,A,b,Aeq,beq)\n",
    "print(x)"
   ]
  },
  {
   "attachments": {},
   "cell_type": "markdown",
   "metadata": {},
   "source": [
    "## 某场三种产品AB工序"
   ]
  },
  {
   "cell_type": "code",
   "execution_count": 9,
   "metadata": {},
   "outputs": [
    {
     "data": {
      "text/plain": [
       "     con: array([ 4.82032192e-11, -5.97424332e-11,  2.10889084e-11])\n",
       "     fun: -1146.6002953259126\n",
       " message: 'Optimization terminated successfully.'\n",
       "     nit: 8\n",
       "   slack: array([9.71438567e-07, 1.40950397e-06, 3.63271738e-07, 2.76081664e-06,\n",
       "       1.03429238e-06])\n",
       "  status: 0\n",
       " success: True\n",
       "       x: array([1.20000000e+03, 2.30049262e+02, 1.73475291e-08, 8.58620690e+02,\n",
       "       5.71428571e+02, 5.77443837e-08, 5.00000000e+02, 5.00000000e+02,\n",
       "       3.24137931e+02, 3.24137931e+02])"
      ]
     },
     "execution_count": 9,
     "metadata": {},
     "output_type": "execute_result"
    }
   ],
   "source": [
    "f=np.array([-0.75,-0.7753,0.375,0.4474,0.35,-1.15,-1.3611,0.5,-1.9148,1.2304])\n",
    "A=np.array([\n",
    "    [5,0,0,0,0,10,0,0,0,0],\n",
    "    [0,7,0,0,0,0,9,0,12,0],\n",
    "    [0,0,6,0,0,0,0,8,0,0],\n",
    "    [0,0,0,4,0,0,0,0,0,11],\n",
    "    [0,0,0,0,7,0,0,0,0,0],\n",
    "])\n",
    "b=np.array([6000,10000,4000,7000,4000])\n",
    "Aeq=np.array([\n",
    "    [1,1,-1,-1,-1,0,0,0,0,0],\n",
    "    [0,0,0,0,0,1,1,-1,0,0],\n",
    "    [0,0,0,0,0,0,0,0,1,-1]\n",
    "])\n",
    "beq=np.array([0,0,0])\n",
    "x=linprog(f,A,b,Aeq,beq)\n",
    "x"
   ]
  }
 ],
 "metadata": {
  "kernelspec": {
   "display_name": "Python 3",
   "language": "python",
   "name": "python3"
  },
  "language_info": {
   "codemirror_mode": {
    "name": "ipython",
    "version": 3
   },
   "file_extension": ".py",
   "mimetype": "text/x-python",
   "name": "python",
   "nbconvert_exporter": "python",
   "pygments_lexer": "ipython3",
   "version": "3.10.4"
  },
  "orig_nbformat": 4,
  "vscode": {
   "interpreter": {
    "hash": "1daca1ebfa99d363f49187de6dd878fa6001e85bc2f160c60bcd81d0df0caa1e"
   }
  }
 },
 "nbformat": 4,
 "nbformat_minor": 2
}
