{
 "cells": [
  {
   "cell_type": "markdown",
   "metadata": {},
   "source": [
    "## 线性规划"
   ]
  },
  {
   "cell_type": "code",
   "execution_count": 7,
   "metadata": {},
   "outputs": [],
   "source": [
    "\n",
    "from scipy.optimize import linprog\n",
    "import numpy as np"
   ]
  },
  {
   "cell_type": "code",
   "execution_count": 8,
   "metadata": {},
   "outputs": [
    {
     "name": "stdout",
     "output_type": "stream",
     "text": [
      "           con: array([], dtype=float64)\n",
      " crossover_nit: 0\n",
      "         eqlin:  marginals: array([], dtype=float64)\n",
      "  residual: array([], dtype=float64)\n",
      "           fun: -26.0\n",
      "       ineqlin:  marginals: array([-1., -2., -0., -0.])\n",
      "  residual: array([0., 0., 1., 8.])\n",
      "         lower:  marginals: array([0., 0.])\n",
      "  residual: array([2., 6.])\n",
      "       message: 'Optimization terminated successfully. (HiGHS Status 7: Optimal)'\n",
      "           nit: 2\n",
      "         slack: array([0., 0., 1., 8.])\n",
      "        status: 0\n",
      "       success: True\n",
      "         upper:  marginals: array([0., 0.])\n",
      "  residual: array([inf, inf])\n",
      "             x: array([2., 6.])\n"
     ]
    }
   ],
   "source": [
    "f=np.array([-4,-3])\n",
    "A=np.array([[2,1],[1,1],[0,1],[-1,-1]])\n",
    "b=np.array([10,8,7,0])\n",
    "x=linprog(f,A,b)#matlab中的相等的约束也需要一个空矩阵填进去\n",
    "print(x)"
   ]
  },
  {
   "attachments": {},
   "cell_type": "markdown",
   "metadata": {},
   "source": [
    "## 飞机货物载重"
   ]
  },
  {
   "cell_type": "code",
   "execution_count": 12,
   "metadata": {},
   "outputs": [
    {
     "name": "stdout",
     "output_type": "stream",
     "text": [
      "           con: array([0., 0.])\n",
      " crossover_nit: 0\n",
      "         eqlin:  marginals: array([0.51470588, 0.51470588])\n",
      "  residual: array([0., 0.])\n",
      "           fun: -111558.82352941172\n",
      "       ineqlin:  marginals: array([    -0.        ,   -300.        ,     -0.        ,     -0.        ,\n",
      "       -10705.88235294,     -0.        ,     -0.        ,     -0.        ,\n",
      "           -0.        ,     -0.        ])\n",
      "  residual: array([1.80000000e+01, 0.00000000e+00, 7.41176471e+00, 1.20000000e+01,\n",
      "       0.00000000e+00, 3.20588235e+00, 2.05882353e-01, 1.00000000e+03,\n",
      "       7.75000000e+02, 2.33823529e+02])\n",
      "         lower:  marginals: array([ 4.00000000e+02, -1.36424205e-12,  0.00000000e+00,  6.50000000e+02,\n",
      "        4.00000000e+02,  0.00000000e+00,  0.00000000e+00,  6.50000000e+02,\n",
      "        4.00000000e+02,  0.00000000e+00,  9.09494702e-13,  7.01470588e+02])\n",
      "  residual: array([ 0.        ,  0.        , 10.        ,  0.        ,  0.        ,\n",
      "        7.20588235,  5.58823529,  0.        ,  0.        ,  7.79411765,\n",
      "        0.        ,  0.        ])\n",
      "       message: 'Optimization terminated successfully. (HiGHS Status 7: Optimal)'\n",
      "           nit: 11\n",
      "         slack: array([1.80000000e+01, 0.00000000e+00, 7.41176471e+00, 1.20000000e+01,\n",
      "       0.00000000e+00, 3.20588235e+00, 2.05882353e-01, 1.00000000e+03,\n",
      "       7.75000000e+02, 2.33823529e+02])\n",
      "        status: 0\n",
      "       success: True\n",
      "         upper:  marginals: array([0., 0., 0., 0., 0., 0., 0., 0., 0., 0., 0., 0.])\n",
      "  residual: array([inf, inf, inf, inf, inf, inf, inf, inf, inf, inf, inf, inf])\n",
      "             x: array([ 0.        ,  0.        , 10.        ,  0.        ,  0.        ,\n",
      "        7.20588235,  5.58823529,  0.        ,  0.        ,  7.79411765,\n",
      "        0.        ,  0.        ])\n"
     ]
    }
   ],
   "source": [
    "f=np.array([-3100,-3800,-3500,-2850,-3100,-3800,-3500,-2850,-3100,-3800,-3500,-2850],dtype=np.float64)\n",
    "A=np.array([\n",
    "    [1,0,0,0,1,0,0,0,1,0,0,0],\n",
    "    [0,1,0,0,0,1,0,0,0,1,0,0],\n",
    "    [0,0,1,0,0,0,1,0,0,0,1,0],\n",
    "    [0,0,0,1,0,0,0,1,0,0,0,1],\n",
    "    [1,1,1,1,0,0,0,0,0,0,0,0],\n",
    "    [0,0,0,0,1,1,1,1,0,0,0,0],\n",
    "    [0,0,0,0,0,0,0,0,1,1,1,1],\n",
    "    [480,650,580,390,0,0,0,0,0,0,0,0],\n",
    "    [0,0,0,0,480,650,580,390,0,0,0,0],\n",
    "    [0,0,0,0,0,0,0,0,480,650,580,390],\n",
    "\n",
    "],dtype=np.float64)\n",
    "b=np.array([18,15,23,12,10,16,8,6800,8700,5300,],dtype=np.float64)\n",
    "Aeq=np.array([\n",
    "    [8700,8700,8700,8700,-6800,-6800,-6800,-6800,0,0,0,0],\n",
    "    [5300,5300,5300,5300,0,0,0,0,-6800,-6800,-6800,-6900]\n",
    "],dtype=np.float64)\n",
    "beq=np.array([0,0],dtype=np.float64)\n",
    "x=linprog(f,A,b,Aeq,beq)\n",
    "print(x)"
   ]
  },
  {
   "attachments": {},
   "cell_type": "markdown",
   "metadata": {},
   "source": [
    "## 某场三种产品AB工序"
   ]
  },
  {
   "cell_type": "code",
   "execution_count": null,
   "metadata": {},
   "outputs": [],
   "source": [
    "f=-np.array([\n",
    "    1-(300/6000),\n",
    "    1-(321/10000),\n",
    "    -(250/4000),\n",
    "    \n",
    "])"
   ]
  }
 ],
 "metadata": {
  "kernelspec": {
   "display_name": "Python 3.9.12 64-bit",
   "language": "python",
   "name": "python3"
  },
  "language_info": {
   "codemirror_mode": {
    "name": "ipython",
    "version": 3
   },
   "file_extension": ".py",
   "mimetype": "text/x-python",
   "name": "python",
   "nbconvert_exporter": "python",
   "pygments_lexer": "ipython3",
   "version": "3.9.12"
  },
  "orig_nbformat": 4,
  "vscode": {
   "interpreter": {
    "hash": "1daca1ebfa99d363f49187de6dd878fa6001e85bc2f160c60bcd81d0df0caa1e"
   }
  }
 },
 "nbformat": 4,
 "nbformat_minor": 2
}
